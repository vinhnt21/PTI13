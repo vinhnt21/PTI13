{
 "cells": [
  {
   "cell_type": "code",
   "execution_count": 2,
   "id": "982a1270",
   "metadata": {},
   "outputs": [],
   "source": [
    "class Game:\n",
    "    def __init__(self, name, price, type, description, author, rating):\n",
    "        self.name = name\n",
    "        self.price = price\n",
    "        self.type = type\n",
    "        self.description = description\n",
    "        self.author = author\n",
    "        self.rating = rating   \n"
   ]
  },
  {
   "cell_type": "code",
   "execution_count": 3,
   "id": "8d1c2dec",
   "metadata": {},
   "outputs": [
    {
     "name": "stdout",
     "output_type": "stream",
     "text": [
      "{'name': 'Mystical Adventure', 'price': 19.99, 'type': 'Adventure', 'description': 'Embark on a journey through enchanted lands and solve ancient puzzles.', 'author': 'DreamForge Studios', 'rating': 4.7}\n",
      "Mystical Adventure\n",
      "19.99\n",
      "Mystical Adventure\n"
     ]
    }
   ],
   "source": [
    "import json\n",
    "data_file = 'Game.json'\n",
    "# load data from json file\n",
    "with open(data_file, 'r') as file:\n",
    "    data = json.load(file)\n",
    "\n",
    "print(data[0])\n",
    "\n",
    "# conver data[0] to Game object\n",
    "print(data[0]['name'])\n",
    "print(data[0]['price'])\n",
    "\n",
    "game = Game(data[0]['name'], data[0]['price'], data[0]['type'], data[0]['description'], data[0]['author'], data[0]['rating'])\n",
    "\n",
    "print(game.name)"
   ]
  },
  {
   "cell_type": "code",
   "execution_count": null,
   "id": "ea01dd75",
   "metadata": {},
   "outputs": [
    {
     "name": "stdout",
     "output_type": "stream",
     "text": [
      "Game added successfully!\n"
     ]
    }
   ],
   "source": [
    "new_game = Game(\"Free Fire\", 0, \"Battle Royale\", \"Free Fire is a battle royale game where players fight to be the last one standing.\", \"Garena\", 4.5)\n",
    "\n",
    "data.append(new_game.__dict__)\n",
    "\n",
    "# save data to json file\n",
    "with open(data_file, 'w') as file:\n",
    "    json.dump(data, file)\n",
    "print(\"Game added successfully!\")"
   ]
  }
 ],
 "metadata": {
  "kernelspec": {
   "display_name": "Python 3",
   "language": "python",
   "name": "python3"
  },
  "language_info": {
   "codemirror_mode": {
    "name": "ipython",
    "version": 3
   },
   "file_extension": ".py",
   "mimetype": "text/x-python",
   "name": "python",
   "nbconvert_exporter": "python",
   "pygments_lexer": "ipython3",
   "version": "3.10.11"
  }
 },
 "nbformat": 4,
 "nbformat_minor": 5
}
